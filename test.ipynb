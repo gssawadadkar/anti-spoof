{
 "cells": [
  {
   "cell_type": "code",
   "execution_count": 23,
   "metadata": {},
   "outputs": [
    {
     "name": "stdout",
     "output_type": "stream",
     "text": [
      "(4, 'PN07', 'Swapnil', 'Brown', 'ABCDE3456J', '987654321313', 'manager', 'development', b'C:\\\\Users\\\\gssaw\\\\inten\\\\reference\\\\examples\\\\Images\\\\swapnil.jpg')\n",
      "4\n",
      "MySQL connection is closed\n"
     ]
    },
    {
     "ename": "TypeError",
     "evalue": "'int' object is not subscriptable",
     "output_type": "error",
     "traceback": [
      "\u001b[1;31m---------------------------------------------------------------------------\u001b[0m",
      "\u001b[1;31mTypeError\u001b[0m                                 Traceback (most recent call last)",
      "Cell \u001b[1;32mIn[23], line 31\u001b[0m\n\u001b[0;32m     27\u001b[0m \u001b[38;5;28mprint\u001b[39m(row)\n\u001b[0;32m     29\u001b[0m \u001b[38;5;66;03m# print(\"Person Id = \", row[2])\u001b[39;00m\n\u001b[0;32m     30\u001b[0m \u001b[38;5;66;03m# print(\"Person Name = \", row[3])\u001b[39;00m\n\u001b[1;32m---> 31\u001b[0m image \u001b[38;5;241m=\u001b[39m \u001b[43mrow\u001b[49m\u001b[43m[\u001b[49m\u001b[38;5;241;43m-\u001b[39;49m\u001b[38;5;241;43m1\u001b[39;49m\u001b[43m]\u001b[49m\n\u001b[0;32m     32\u001b[0m \u001b[38;5;66;03m# file = row[3]\u001b[39;00m\n\u001b[0;32m     33\u001b[0m \u001b[38;5;66;03m# Pass path with filename where we want to save our file\u001b[39;00m\n\u001b[0;32m     34\u001b[0m convert_data(image, \u001b[38;5;124mf\u001b[39m\u001b[38;5;124m\"\u001b[39m\u001b[38;5;132;01m{\u001b[39;00mrow[\u001b[38;5;241m2\u001b[39m]\u001b[38;5;132;01m}\u001b[39;00m\u001b[38;5;124m.jpg\u001b[39m\u001b[38;5;124m\"\u001b[39m)\n",
      "\u001b[1;31mTypeError\u001b[0m: 'int' object is not subscriptable"
     ]
    }
   ],
   "source": [
    "# import module\n",
    "import mysql.connector\n",
    "\n",
    "# function to convert data\n",
    "def convert_data(data, file_name):\n",
    "    # Convert binary format to images \n",
    "    # or files data(with given file_name)\n",
    "    with open(file_name, 'wb') as file:\n",
    "        file.write(data)\n",
    "\n",
    "\n",
    "try:\n",
    "    # establish connection\n",
    "    connection = mysql.connector.connect(host='localhost', \n",
    "                                        database='liveness_detection', \n",
    "                                        user='root', \n",
    "                                        password='jay@gajanan123')\n",
    "    cursor = connection.cursor()\n",
    "    # getting data by id value\n",
    "    query = \"\"\" SELECT * from employees where EmpCode = %s \"\"\"\n",
    "\n",
    "    EmpCode = \"PN07\"\n",
    "    cursor.execute(query, (EmpCode,))\n",
    "    records = cursor.fetchone()\n",
    "    print(records)\n",
    "    for row in records:\n",
    "        print(row)\n",
    "\n",
    "        # print(\"Person Id = \", row[2])\n",
    "        # print(\"Person Name = \", row[3])\n",
    "        image = row[-1]\n",
    "        # file = row[3]\n",
    "        # Pass path with filename where we want to save our file\n",
    "        convert_data(image, f\"{row[2]}.jpg\")\n",
    "        # # Pass path with filename where we want to save our file\n",
    "        # convert_data(file, \"D:\\GFG\\content.txt\")\n",
    "\n",
    "        print(\"Successfully Retrieved Values from database\")\n",
    "\n",
    "except mysql.connector.Error as error:\n",
    "    print(format(error))\n",
    "\n",
    "finally:\n",
    "    if connection.is_connected():\n",
    "        cursor.close()\n",
    "        connection.close()\n",
    "        print(\"MySQL connection is closed\")\n",
    "\n",
    "\n",
    "# Check if the image is loaded successfully\n",
    "# if image is not None:\n",
    "#     cv2.imshow(\"image_window\", image)\n",
    "#     cv2.waitKey(0)\n",
    "#     cv2.destroyAllWindows()\n",
    "# else:\n",
    "#     print(f\"Error: Unable to load image from {image_path}\")\n"
   ]
  },
  {
   "cell_type": "code",
   "execution_count": 33,
   "metadata": {},
   "outputs": [
    {
     "name": "stdout",
     "output_type": "stream",
     "text": [
      "[[[220 220 220]\n",
      "  [220 220 220]\n",
      "  [222 220 220]\n",
      "  ...\n",
      "  [217 218 216]\n",
      "  [217 218 216]\n",
      "  [217 218 216]]\n",
      "\n",
      " [[220 220 220]\n",
      "  [220 220 220]\n",
      "  [222 220 220]\n",
      "  ...\n",
      "  [217 218 216]\n",
      "  [217 218 216]\n",
      "  [217 218 216]]\n",
      "\n",
      " [[218 220 220]\n",
      "  [218 220 220]\n",
      "  [220 220 220]\n",
      "  ...\n",
      "  [217 218 216]\n",
      "  [217 218 216]\n",
      "  [217 218 216]]\n",
      "\n",
      " ...\n",
      "\n",
      " [[131 132 136]\n",
      "  [131 132 136]\n",
      "  [131 132 136]\n",
      "  ...\n",
      "  [144 146 147]\n",
      "  [144 146 147]\n",
      "  [144 146 147]]\n",
      "\n",
      " [[131 132 136]\n",
      "  [131 132 136]\n",
      "  [131 132 136]\n",
      "  ...\n",
      "  [144 146 147]\n",
      "  [144 146 147]\n",
      "  [144 146 147]]\n",
      "\n",
      " [[131 132 136]\n",
      "  [131 132 136]\n",
      "  [131 132 136]\n",
      "  ...\n",
      "  [144 146 147]\n",
      "  [144 146 147]\n",
      "  [144 146 147]]]\n"
     ]
    },
    {
     "name": "stderr",
     "output_type": "stream",
     "text": [
      "C:\\Users\\gssaw\\AppData\\Local\\Temp\\ipykernel_30908\\3062295501.py:6: DeprecationWarning: startfile: filepath should be string, bytes or os.PathLike, not ndarray\n",
      "  cv2.imshow(\"frame\",os.startfile(img))\n"
     ]
    },
    {
     "ename": "ValueError",
     "evalue": "startfile: embedded null character in filepath",
     "output_type": "error",
     "traceback": [
      "\u001b[1;31m---------------------------------------------------------------------------\u001b[0m",
      "\u001b[1;31mValueError\u001b[0m                                Traceback (most recent call last)",
      "Cell \u001b[1;32mIn[33], line 6\u001b[0m\n\u001b[0;32m      4\u001b[0m img\u001b[38;5;241m=\u001b[39mcv2\u001b[38;5;241m.\u001b[39mimread(image_path)\n\u001b[0;32m      5\u001b[0m \u001b[38;5;28mprint\u001b[39m(img)\n\u001b[1;32m----> 6\u001b[0m cv2\u001b[38;5;241m.\u001b[39mimshow(\u001b[38;5;124m\"\u001b[39m\u001b[38;5;124mframe\u001b[39m\u001b[38;5;124m\"\u001b[39m,\u001b[43mos\u001b[49m\u001b[38;5;241;43m.\u001b[39;49m\u001b[43mstartfile\u001b[49m\u001b[43m(\u001b[49m\u001b[43mimg\u001b[49m\u001b[43m)\u001b[49m)\n",
      "\u001b[1;31mValueError\u001b[0m: startfile: embedded null character in filepath"
     ]
    }
   ],
   "source": [
    "import os\n",
    "import cv2\n",
    "image_path='C:\\\\Users\\\\gssaw\\\\inten\\\\reference\\\\examples\\\\Images\\\\swapnil.jpg'\n",
    "img=cv2.imread(image_path)\n",
    "print(img)\n",
    "cv2.imshow(\"frame\",os.startfile(img))"
   ]
  },
  {
   "cell_type": "code",
   "execution_count": 1,
   "metadata": {},
   "outputs": [
    {
     "name": "stdout",
     "output_type": "stream",
     "text": [
      "(1160, 522, 3)\n"
     ]
    }
   ],
   "source": [
    "import cv2\n",
    "import os\n",
    "\n",
    "# Function to display image using OpenCV\n",
    "def display_image(image_path):\n",
    "    image = cv2.imread(image_path)\n",
    "    print(image.shape)\n",
    "    if image is not None:\n",
    "        cv2.imshow(\"Image\", image)\n",
    "        cv2.waitKey(0)\n",
    "        cv2.destroyAllWindows()\n",
    "    else:\n",
    "        print(f\"Failed to load image from {image_path}\")\n",
    "\n",
    "# Provide the path to the image file\n",
    "image_path = 'C:\\\\Users\\\\gssaw\\\\inten\\\\reference\\\\examples\\\\Images\\\\pranal.jpg'\n",
    "\n",
    "# Call the display_image function\n",
    "display_image(image_path)"
   ]
  },
  {
   "cell_type": "code",
   "execution_count": 2,
   "metadata": {},
   "outputs": [],
   "source": [
    "cap = cv2.VideoCapture(0)\n",
    "\n",
    "while True:\n",
    "    ret, frame = cap.read()\n",
    "\n",
    "    # Check if the frame is valid\n",
    "    if not ret:\n",
    "        print(\"Error reading frame from camera.\")\n",
    "        break\n",
    "\n",
    "    # Display the frame in a window named \"Camera Feed\"\n",
    "    cv2.imshow(\"Camera Feed\", frame)\n",
    "\n",
    "    # Break the loop if 'q' key is pressed\n",
    "    if cv2.waitKey(1) & 0xFF == ord('q'):\n",
    "        break\n",
    "\n",
    "# Release the camera and close the OpenCV windows\n",
    "cap.release()\n",
    "cv2.destroyAllWindows()"
   ]
  },
  {
   "cell_type": "code",
   "execution_count": 2,
   "metadata": {},
   "outputs": [
    {
     "data": {
      "text/plain": [
       "'4.9.0'"
      ]
     },
     "execution_count": 2,
     "metadata": {},
     "output_type": "execute_result"
    }
   ],
   "source": [
    "import cv2\n",
    "cv2.__version__"
   ]
  },
  {
   "cell_type": "code",
   "execution_count": 7,
   "metadata": {},
   "outputs": [
    {
     "ename": "AttributeError",
     "evalue": "module 'mysql' has no attribute '__version__'",
     "output_type": "error",
     "traceback": [
      "\u001b[1;31m---------------------------------------------------------------------------\u001b[0m",
      "\u001b[1;31mAttributeError\u001b[0m                            Traceback (most recent call last)",
      "Cell \u001b[1;32mIn[7], line 2\u001b[0m\n\u001b[0;32m      1\u001b[0m \u001b[38;5;28;01mimport\u001b[39;00m \u001b[38;5;21;01mmysql\u001b[39;00m\n\u001b[1;32m----> 2\u001b[0m \u001b[43mmysql\u001b[49m\u001b[38;5;241;43m.\u001b[39;49m\u001b[43m__version__\u001b[49m\n",
      "\u001b[1;31mAttributeError\u001b[0m: module 'mysql' has no attribute '__version__'"
     ]
    }
   ],
   "source": []
  },
  {
   "cell_type": "code",
   "execution_count": null,
   "metadata": {},
   "outputs": [],
   "source": []
  }
 ],
 "metadata": {
  "kernelspec": {
   "display_name": "liveness",
   "language": "python",
   "name": "python3"
  },
  "language_info": {
   "codemirror_mode": {
    "name": "ipython",
    "version": 3
   },
   "file_extension": ".py",
   "mimetype": "text/x-python",
   "name": "python",
   "nbconvert_exporter": "python",
   "pygments_lexer": "ipython3",
   "version": "3.9.2"
  }
 },
 "nbformat": 4,
 "nbformat_minor": 2
}
